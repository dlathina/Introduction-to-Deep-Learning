{
 "cells": [
  {
   "cell_type": "markdown",
   "metadata": {
    "colab_type": "text",
    "id": "KVVVlXJT6a9L"
   },
   "source": [
    "# Recurent Neural Network with Convolutions & Fully Connected"
   ]
  },
  {
   "cell_type": "markdown",
   "metadata": {},
   "source": [
    "![image](CNN.PNG)"
   ]
  },
  {
   "cell_type": "markdown",
   "metadata": {},
   "source": [
    "## 1. Import Libraries and Load data"
   ]
  },
  {
   "cell_type": "code",
   "execution_count": 1,
   "metadata": {
    "colab": {
     "base_uri": "https://localhost:8080/",
     "height": 64
    },
    "colab_type": "code",
    "id": "o0S4uPXh6EgF",
    "outputId": "461bf8ef-2a45-42af-b93d-7f44db0aa2e6"
   },
   "outputs": [],
   "source": [
    "# import library\n",
    "import numpy as np\n",
    "import tensorflow as tf\n",
    "import matplotlib.pyplot as plt\n",
    "%matplotlib inline"
   ]
  },
  {
   "cell_type": "code",
   "execution_count": 2,
   "metadata": {
    "colab": {},
    "colab_type": "code",
    "id": "QZTdZ8vF6RSx"
   },
   "outputs": [],
   "source": [
    "def show_img (img):\n",
    "  img = img.reshape ((28,28))\n",
    "  #(28,28) dibuat menjadi tupple dengan ukuran 28x28 sehingga dituliskan ((28,28))\n",
    "  plt.imshow(img)"
   ]
  },
  {
   "cell_type": "code",
   "execution_count": 3,
   "metadata": {
    "colab": {},
    "colab_type": "code",
    "id": "sYPjqdooCuE-"
   },
   "outputs": [],
   "source": [
    "# download data mnist dari data tensor flow. \n",
    "# mnist adalah data tulisan tangan dari angka 0 sampai angka 9\n",
    "\n",
    "(X_train,y_train),(X_test,y_test) = tf.keras.datasets.mnist.load_data()"
   ]
  },
  {
   "cell_type": "code",
   "execution_count": 4,
   "metadata": {
    "colab": {},
    "colab_type": "code",
    "id": "PwewVOrXD4yV"
   },
   "outputs": [],
   "source": [
    "# reshape (60000, 28, 28, 1)\n",
    "X_train = X_train.reshape (60000,28, 28, 1)\n",
    "X_test = X_test.reshape (10000, 28, 28, 1)\n",
    "\n",
    "# re-type menjadi float number, dan update menjadi (data/maximal value of data). nilai terbesar X adalah 255, maka kita akan bagi dengan 255. \n",
    "X_train = X_train.astype('float32')\n",
    "X_test = X_test.astype('float32')\n",
    "X_train /= 255\n",
    "X_test /= 255 "
   ]
  },
  {
   "cell_type": "code",
   "execution_count": 5,
   "metadata": {
    "colab": {},
    "colab_type": "code",
    "id": "nmSV_oSeEV9d"
   },
   "outputs": [],
   "source": [
    "#onehotencoding untuk nilai y nya. Karena nilai y adalah dari 0 sampai 9, maka kita akan membuat encoder sampai dengan 10 kolom \n",
    "y_train = tf.keras.utils.to_categorical(y_train,10)\n",
    "y_test = tf.keras.utils.to_categorical(y_test,10)"
   ]
  },
  {
   "cell_type": "markdown",
   "metadata": {},
   "source": [
    "## **2. Membuat Arsitektur Jaringan dan Model**"
   ]
  },
  {
   "cell_type": "code",
   "execution_count": 7,
   "metadata": {
    "colab": {},
    "colab_type": "code",
    "id": "NRoMZMtDBI6K"
   },
   "outputs": [],
   "source": [
    "# membuat arsitektur jaringan dengan convolusi\n",
    "\n",
    "model = tf.keras.Sequential()\n",
    "#membuat convolution first filter (convolusi pertama)\n",
    "model.add(tf.keras.layers.Conv2D(50, kernel_size=(3,3), activation='relu', input_shape=(28,28,1)))\n",
    "\n",
    "#membuat convolution second filter (convolusi kedua)\n",
    "model.add(tf.keras.layers.Conv2D(64, kernel_size=(3,3), activation='relu'))\n",
    "\n",
    "#membuat output\n",
    "model.add(tf.keras.layers.MaxPooling2D(pool_size=(2,2)))\n",
    "\n",
    "#flatten\n",
    "model.add(tf.keras.layers.Flatten())\n",
    "\n",
    "#dense\n",
    "model.add(tf.keras.layers.Dense(128, activation='relu'))\n",
    "model.add(tf.keras.layers.Dense(10, activation='softmax'))\n",
    "\n",
    "# compile model\n",
    "model.compile(loss='categorical_crossentropy', optimizer='adam', metrics=['accuracy'])"
   ]
  },
  {
   "cell_type": "code",
   "execution_count": 8,
   "metadata": {
    "colab": {
     "base_uri": "https://localhost:8080/",
     "height": 381
    },
    "colab_type": "code",
    "id": "7sJirI-IDRu4",
    "outputId": "b444a0fa-a7e8-48c2-8c0b-c1be4a872c9f",
    "scrolled": true
   },
   "outputs": [
    {
     "name": "stdout",
     "output_type": "stream",
     "text": [
      "Train on 40199 samples, validate on 19801 samples\n",
      "Epoch 1/10\n",
      "40199/40199 [==============================] - 180s 4ms/sample - loss: 0.1983 - accuracy: 0.9412 - val_loss: 0.0726 - val_accuracy: 0.9777\n",
      "Epoch 2/10\n",
      "40199/40199 [==============================] - 169s 4ms/sample - loss: 0.0534 - accuracy: 0.9832 - val_loss: 0.0592 - val_accuracy: 0.9815\n",
      "Epoch 3/10\n",
      "40199/40199 [==============================] - 178s 4ms/sample - loss: 0.0324 - accuracy: 0.9897 - val_loss: 0.0571 - val_accuracy: 0.9833\n",
      "Epoch 4/10\n",
      "40199/40199 [==============================] - 172s 4ms/sample - loss: 0.0196 - accuracy: 0.9935 - val_loss: 0.0543 - val_accuracy: 0.9850\n",
      "Epoch 5/10\n",
      "40199/40199 [==============================] - 178s 4ms/sample - loss: 0.0166 - accuracy: 0.9946 - val_loss: 0.0590 - val_accuracy: 0.9835\n",
      "Epoch 6/10\n",
      "40199/40199 [==============================] - 174s 4ms/sample - loss: 0.0110 - accuracy: 0.9965 - val_loss: 0.0583 - val_accuracy: 0.9856\n",
      "Epoch 7/10\n",
      "40199/40199 [==============================] - 179s 4ms/sample - loss: 0.0082 - accuracy: 0.9972 - val_loss: 0.0568 - val_accuracy: 0.9866\n",
      "Epoch 8/10\n",
      "40199/40199 [==============================] - 178s 4ms/sample - loss: 0.0058 - accuracy: 0.9979 - val_loss: 0.0644 - val_accuracy: 0.9861\n",
      "Epoch 9/10\n",
      "40199/40199 [==============================] - 174s 4ms/sample - loss: 0.0081 - accuracy: 0.9973 - val_loss: 0.0647 - val_accuracy: 0.9846\n",
      "Epoch 10/10\n",
      "40199/40199 [==============================] - 175s 4ms/sample - loss: 0.0040 - accuracy: 0.9987 - val_loss: 0.0673 - val_accuracy: 0.9866\n"
     ]
    }
   ],
   "source": [
    "# training dengan membuat batch, dengan jumlah batch 128 batchs, agar iterasi lebih cepat. \n",
    "# nanti akan diiterasi sehingga seluruh data akan di-train. \n",
    "H = model.fit(X_train, y_train,validation_split=0.33, epochs=10, batch_size=128)"
   ]
  },
  {
   "cell_type": "markdown",
   "metadata": {},
   "source": [
    "## **3. Lihat Nilai Accuracy dan Loss Model**"
   ]
  },
  {
   "cell_type": "code",
   "execution_count": 11,
   "metadata": {
    "colab": {},
    "colab_type": "code",
    "id": "TJiNKhwSDcZr"
   },
   "outputs": [
    {
     "name": "stdout",
     "output_type": "stream",
     "text": [
      "Accuracy: 98.69999885559082 %\n",
      "Loss: 0.05964280112103154\n"
     ]
    }
   ],
   "source": [
    "# evaluate\n",
    "loss, accuracy = model.evaluate (X_test, y_test, verbose = 0)\n",
    "print (\"Accuracy: {} %\".format(accuracy*100))\n",
    "print (\"Loss: {}\".format(loss))"
   ]
  },
  {
   "cell_type": "markdown",
   "metadata": {},
   "source": [
    "## 4. Lihat Prediksi dari Gambar"
   ]
  },
  {
   "cell_type": "code",
   "execution_count": 21,
   "metadata": {},
   "outputs": [
    {
     "data": {
      "image/png": "[encoded data removed]",
      "text/plain": [
       "<Figure size 432x288 with 1 Axes>"
      ]
     },
     "metadata": {
      "needs_background": "light"
     },
     "output_type": "display_data"
    }
   ],
   "source": [
    "show_img(X_test[7])"
   ]
  },
  {
   "cell_type": "code",
   "execution_count": 22,
   "metadata": {},
   "outputs": [
    {
     "name": "stdout",
     "output_type": "stream",
     "text": [
      "9\n"
     ]
    }
   ],
   "source": [
    "scores = model.predict(X_test[7:8])\n",
    "# [7:8] untuk memunculkan dalam bentuk np array bukan list\n",
    "print(np.argmax(scores))\n",
    "# print untuk memunculkan result\n",
    "# argmax untuk memunculkan arg paling maximal"
   ]
  },
  {
   "cell_type": "code",
   "execution_count": 23,
   "metadata": {},
   "outputs": [
    {
     "data": {
      "image/png": "[encoded data removed]",
      "text/plain": [
       "<Figure size 432x288 with 1 Axes>"
      ]
     },
     "metadata": {
      "needs_background": "light"
     },
     "output_type": "display_data"
    }
   ],
   "source": [
    "show_img(X_test[10])"
   ]
  },
  {
   "cell_type": "code",
   "execution_count": 24,
   "metadata": {},
   "outputs": [
    {
     "name": "stdout",
     "output_type": "stream",
     "text": [
      "0\n"
     ]
    }
   ],
   "source": [
    "scores = model.predict(X_test[10:11])\n",
    "print(np.argmax(scores))"
   ]
  },
  {
   "cell_type": "code",
   "execution_count": 27,
   "metadata": {},
   "outputs": [
    {
     "data": {
      "image/png": "[encoded data removed]",
      "text/plain": [
       "<Figure size 432x288 with 1 Axes>"
      ]
     },
     "metadata": {
      "needs_background": "light"
     },
     "output_type": "display_data"
    }
   ],
   "source": [
    "show_img(X_test[2])"
   ]
  },
  {
   "cell_type": "code",
   "execution_count": 28,
   "metadata": {},
   "outputs": [
    {
     "name": "stdout",
     "output_type": "stream",
     "text": [
      "1\n"
     ]
    }
   ],
   "source": [
    "scores = model.predict(X_test[2:3])\n",
    "print(np.argmax(scores))"
   ]
  },
  {
   "cell_type": "code",
   "execution_count": null,
   "metadata": {},
   "outputs": [],
   "source": []
  }
 ],
 "metadata": {
  "colab": {
   "collapsed_sections": [],
   "name": "03-Convolution & Fully Connected",
   "provenance": []
  },
  "kernelspec": {
   "display_name": "Python 3",
   "language": "python",
   "name": "python3"
  },
  "language_info": {
   "codemirror_mode": {
    "name": "ipython",
    "version": 3
   },
   "file_extension": ".py",
   "mimetype": "text/x-python",
   "name": "python",
   "nbconvert_exporter": "python",
   "pygments_lexer": "ipython3",
   "version": "3.7.4"
  }
 },
 "nbformat": 4,
 "nbformat_minor": 1
}
